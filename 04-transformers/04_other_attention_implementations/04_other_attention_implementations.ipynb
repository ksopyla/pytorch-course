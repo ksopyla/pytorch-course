{
 "cells": [
  {
   "cell_type": "markdown",
   "id": "a5f55444",
   "metadata": {},
   "source": [
    "# Other Attention Implementations\n",
    "\n",
    "\n",
    "\n",
    "Resources:\n",
    "- [Accelerated PyTorch 2](https://pytorch.org/blog/accelerated-pytorch-2/) \n",
    "- [Out-of-the-box acceleration](https://pytorch.org/blog/out-of-the-box-acceleration/)\n",
    "\n"
   ]
  },
  {
   "cell_type": "markdown",
   "id": "f353d7e9",
   "metadata": {},
   "source": []
  }
 ],
 "metadata": {
  "language_info": {
   "name": "python"
  }
 },
 "nbformat": 4,
 "nbformat_minor": 5
}
