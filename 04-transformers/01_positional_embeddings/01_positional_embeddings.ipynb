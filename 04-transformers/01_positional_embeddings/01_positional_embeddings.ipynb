{
 "cells": [
  {
   "cell_type": "markdown",
   "id": "ffb1cb64",
   "metadata": {},
   "source": [
    "# Positional Embeddings"
   ]
  }
 ],
 "metadata": {},
 "nbformat": 4,
 "nbformat_minor": 5
}
