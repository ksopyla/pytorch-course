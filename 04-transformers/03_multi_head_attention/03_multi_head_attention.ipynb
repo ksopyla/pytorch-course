{
 "cells": [
  {
   "cell_type": "markdown",
   "id": "81e802cc",
   "metadata": {},
   "source": [
    "# Multi-Head Attention"
   ]
  }
 ],
 "metadata": {},
 "nbformat": 4,
 "nbformat_minor": 5
}
