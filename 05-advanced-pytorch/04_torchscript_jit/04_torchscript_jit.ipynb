{
 "cells": [
  {
   "cell_type": "markdown",
   "id": "c66c06e1",
   "metadata": {},
   "source": [
    "# Torchscript JIT"
   ]
  }
 ],
 "metadata": {},
 "nbformat": 4,
 "nbformat_minor": 5
}
