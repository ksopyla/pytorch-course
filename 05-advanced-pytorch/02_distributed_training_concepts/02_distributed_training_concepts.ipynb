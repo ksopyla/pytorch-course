{
 "cells": [
  {
   "cell_type": "markdown",
   "id": "2683a52b",
   "metadata": {},
   "source": [
    "# Distributed Training Concepts"
   ]
  }
 ],
 "metadata": {},
 "nbformat": 4,
 "nbformat_minor": 5
}
