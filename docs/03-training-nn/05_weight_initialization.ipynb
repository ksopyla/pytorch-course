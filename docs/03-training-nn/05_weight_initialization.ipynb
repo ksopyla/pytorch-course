{
 "cells": [
  {
   "cell_type": "markdown",
   "id": "4a8db314",
   "metadata": {},
   "source": [
    "# Weight Initialization"
   ]
  }
 ],
 "metadata": {},
 "nbformat": 4,
 "nbformat_minor": 5
}
