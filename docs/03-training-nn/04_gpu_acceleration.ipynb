{
 "cells": [
  {
   "cell_type": "markdown",
   "id": "e1bcee12",
   "metadata": {},
   "source": [
    "# GPU Acceleration\n",
    "\n",
    "\n",
    "\n",
    "Learning objectives:\n",
    "- Understand the GPU parallelisation: data parallel, model parallel, pipeline parallel, etc.\n",
    "- How to use GPU acceleration to train a model.\n",
    "- How to use FSDP and DeepSpeed in Accelerate to train a model on multiple GPUs.\n",
    "\n",
    "\n",
    "\n",
    "Resources:\n",
    "- [Make LLM training possible across multi-gpus using FSDP and DeepSpeed in Accelerate](https://medium.com/@adityashanmugham/make-llm-training-possible-across-multi-gpus-using-fsdp-and-deepspeed-in-accelerate-part-1-33eb2a813f60)"
   ]
  },
  {
   "cell_type": "markdown",
   "id": "da184675",
   "metadata": {},
   "source": []
  }
 ],
 "metadata": {
  "language_info": {
   "name": "python"
  }
 },
 "nbformat": 4,
 "nbformat_minor": 5
}
