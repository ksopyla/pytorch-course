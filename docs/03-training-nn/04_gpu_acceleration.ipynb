{
 "cells": [
  {
   "cell_type": "markdown",
   "id": "e1bcee12",
   "metadata": {},
   "source": [
    "# GPU Acceleration"
   ]
  }
 ],
 "metadata": {},
 "nbformat": 4,
 "nbformat_minor": 5
}
