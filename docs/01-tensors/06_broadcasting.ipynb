{
 "cells": [
  {
   "cell_type": "markdown",
   "id": "36dec5cb",
   "metadata": {},
   "source": [
    "# Broadcasting"
   ]
  }
 ],
 "metadata": {},
 "nbformat": 4,
 "nbformat_minor": 5
}
