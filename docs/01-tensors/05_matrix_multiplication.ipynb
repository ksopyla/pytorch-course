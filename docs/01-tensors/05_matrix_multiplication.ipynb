{
 "cells": [
  {
   "cell_type": "markdown",
   "id": "05d6ee32",
   "metadata": {},
   "source": [
    "# Matrix Multiplication\n",
    "\n",
    "\n",
    "\n",
    "$$\n",
    "\\text{Attention}(Q, K, V) = \\text{softmax}\\left(\\frac{QK^T}{\\sqrt{d_k}}\\right)V\n",
    "$$\n",
    "\n",
    "Where:\n",
    "- $Q$ is the Query matrix\n",
    "- $K$ is the Key matrix  \n",
    "- $V$ is the Value matrix\n",
    "- $d_k$ is the dimension of the key vectors\n",
    "- $\\text{softmax}$ normalizes the attention weights"
   ]
  }
 ],
 "metadata": {
  "language_info": {
   "name": "python"
  }
 },
 "nbformat": 4,
 "nbformat_minor": 5
}
