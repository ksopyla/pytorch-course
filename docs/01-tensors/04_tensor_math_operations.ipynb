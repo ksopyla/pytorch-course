{
 "cells": [
  {
   "cell_type": "markdown",
   "id": "7cfc4e4c",
   "metadata": {},
   "source": [
    "# Tensor Math Operations"
   ]
  }
 ],
 "metadata": {},
 "nbformat": 4,
 "nbformat_minor": 5
}
