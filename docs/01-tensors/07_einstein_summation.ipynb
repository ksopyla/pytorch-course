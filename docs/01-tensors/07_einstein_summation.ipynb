{
 "cells": [
  {
   "cell_type": "markdown",
   "id": "208a2359",
   "metadata": {},
   "source": [
    "# Einstein Summation"
   ]
  }
 ],
 "metadata": {},
 "nbformat": 4,
 "nbformat_minor": 5
}
