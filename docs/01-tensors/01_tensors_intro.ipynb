{
 "cells": [
  {
   "cell_type": "markdown",
   "metadata": {},
   "source": [
    "# Module 01 lesson 1: Tensors introduction\n",
    "\n",
    "\n",
    "\n",
    "## Lesson goals: \n",
    "\n",
    "- Understand what tensors are and why they are useful for machine learning\n",
    "- Get hands-on experience on creating and selecting elements from tensors in PyTorch\n",
    "- Manipulate and transform tensors to prepare them for machine learning tasks\n",
    "\n",
    "Time to complete: 10 minutes\n",
    "Level: Beginner - Intermediate\n"
   ]
  },
  {
   "cell_type": "markdown",
   "metadata": {},
   "source": [
    "## What is a tensor?\n",
    "\n",
    "\n",
    "- what is a tensor?\n",
    "- how is it different from a matrix? \n",
    "- are mathematical interpretations of tensors are different from their PyTorch counterparts?\n",
    "- why are tensors useful for machine learning? Why we can't use matrices?\n",
    "- \n",
    "\n"
   ]
  }
 ],
 "metadata": {
  "language_info": {
   "name": "python"
  }
 },
 "nbformat": 4,
 "nbformat_minor": 2
}
