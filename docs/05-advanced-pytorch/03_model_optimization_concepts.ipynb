{
 "cells": [
  {
   "cell_type": "markdown",
   "id": "d3992cbd",
   "metadata": {},
   "source": [
    "# Model Optimization Concepts"
   ]
  }
 ],
 "metadata": {},
 "nbformat": 4,
 "nbformat_minor": 5
}
