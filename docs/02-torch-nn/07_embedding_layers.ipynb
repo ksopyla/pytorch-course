{
 "cells": [
  {
   "cell_type": "markdown",
   "id": "69410242",
   "metadata": {},
   "source": [
    "# Embedding Layers"
   ]
  }
 ],
 "metadata": {},
 "nbformat": 4,
 "nbformat_minor": 5
}
