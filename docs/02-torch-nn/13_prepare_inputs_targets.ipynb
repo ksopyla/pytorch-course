{
 "cells": [
  {
   "cell_type": "markdown",
   "id": "b8dab658",
   "metadata": {},
   "source": [
    "# Prepare Inputs Targets"
   ]
  }
 ],
 "metadata": {},
 "nbformat": 4,
 "nbformat_minor": 5
}
