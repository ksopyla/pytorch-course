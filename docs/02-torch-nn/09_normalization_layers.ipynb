{
 "cells": [
  {
   "cell_type": "markdown",
   "id": "70a0f828",
   "metadata": {},
   "source": [
    "# Normalization Layers\n",
    "\n",
    "\n",
    "\n",
    "\n",
    "Estimated learning time: 15 minutes\n",
    "\n",
    "Learning objectives:\n",
    "- Understand the basics of normalization layers: batch normalization, layer normalization, instance normalization, group normalization.\n",
    "- Understand the difference between these normalization layers.\n",
    "- Know how to use these normalization layers in practice. Compare the results of using different normalization layers.\n",
    "\n",
    "\n",
    "Resources:\n",
    "- [RMSNorm - a better normalization layer](https://medium.com/@hugmanskj/mastering-llama-rmsnorm-ae5c5d504e9a)"
   ]
  },
  {
   "cell_type": "markdown",
   "id": "245e04d4",
   "metadata": {},
   "source": []
  },
  {
   "cell_type": "markdown",
   "id": "f85edb58",
   "metadata": {},
   "source": []
  }
 ],
 "metadata": {
  "language_info": {
   "name": "python"
  }
 },
 "nbformat": 4,
 "nbformat_minor": 5
}
