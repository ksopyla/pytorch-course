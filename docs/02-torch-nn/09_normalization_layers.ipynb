{
 "cells": [
  {
   "cell_type": "markdown",
   "id": "70a0f828",
   "metadata": {},
   "source": [
    "# Normalization Layers"
   ]
  }
 ],
 "metadata": {},
 "nbformat": 4,
 "nbformat_minor": 5
}
