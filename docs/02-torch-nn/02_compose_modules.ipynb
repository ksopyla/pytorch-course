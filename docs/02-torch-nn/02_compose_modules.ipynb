{
 "cells": [
  {
   "cell_type": "markdown",
   "id": "6a555f76",
   "metadata": {},
   "source": [
    "# Compose Modules"
   ]
  }
 ],
 "metadata": {},
 "nbformat": 4,
 "nbformat_minor": 5
}
