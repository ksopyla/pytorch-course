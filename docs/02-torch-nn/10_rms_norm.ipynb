{
 "cells": [
  {
   "cell_type": "markdown",
   "id": "071991c0",
   "metadata": {},
   "source": [
    "# RMS Norm"
   ]
  }
 ],
 "metadata": {},
 "nbformat": 4,
 "nbformat_minor": 5
}
