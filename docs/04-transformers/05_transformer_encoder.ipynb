{
 "cells": [
  {
   "cell_type": "markdown",
   "id": "811c34e4",
   "metadata": {},
   "source": [
    "# Transformer Encoder"
   ]
  }
 ],
 "metadata": {},
 "nbformat": 4,
 "nbformat_minor": 5
}
