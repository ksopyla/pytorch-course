{
 "cells": [
  {
   "cell_type": "markdown",
   "metadata": {},
   "source": [
    "# Lesson 1: Hello PyTorch\n",
    "\n",
    "Start with the most basic example of Python\n"
   ]
  },
  {
   "cell_type": "code",
   "execution_count": 1,
   "metadata": {},
   "outputs": [
    {
     "name": "stdout",
     "output_type": "stream",
     "text": [
      "Hello world\n"
     ]
    }
   ],
   "source": [
    "print(\"Hello world\")"
   ]
  },
  {
   "cell_type": "markdown",
   "metadata": {},
   "source": [
    "## Import PyTorch \n",
    "\n",
    "Display a PyTorch version and GPU availability"
   ]
  },
  {
   "cell_type": "code",
   "execution_count": 2,
   "metadata": {},
   "outputs": [
    {
     "name": "stdout",
     "output_type": "stream",
     "text": [
      "PyTorch version: 2.7.0+cu126\n",
      "CUDA available: True\n"
     ]
    }
   ],
   "source": [
    "import torch\n",
    "print(f\"PyTorch version: {torch.__version__}\")\n",
    "print(f\"CUDA available: {torch.cuda.is_available()}\")"
   ]
  },
  {
   "cell_type": "markdown",
   "metadata": {},
   "source": [
    "Running the cell above should give someghing like this (it will depend on you setup)\n",
    "\n",
    "```bash\n",
    "PyTorch version: 2.7.0+cu126\n",
    "CUDA available: True\n",
    "```\n",
    "\n",
    "\n",
    "\n",
    "Lets digg to some of the usefull GPU, CuDNN, Torch etc informations"
   ]
  },
  {
   "cell_type": "code",
   "execution_count": null,
   "metadata": {},
   "outputs": [],
   "source": [
    "\n",
    "\n",
    "#Display a PyTorch version and GPU availability\n",
    "if torch.cuda.is_available():\n",
    "    device = torch.device(\"cuda\")          # a CUDA device object\n",
    "    print(f\"Using device: {device}\")\n",
    "    \n",
    "    # Print CUDA device properties\n",
    "    print(\"\\nCUDA Device Properties:\")\n",
    "    print(f\"Device name: {torch.cuda.get_device_name(0)}\")\n",
    "    print(f\"Device properties: {torch.cuda.get_device_properties(0)}\")\n",
    "    print(f\"Current device index: {torch.cuda.current_device()}\")\n",
    "    print(f\"Device count: {torch.cuda.device_count()}\")\n",
    "    \n",
    "    # Print CUDA version and capabilities\n",
    "    print(\"\\nCUDA Information:\")\n",
    "    print(f\"CUDA version: {torch.version.cuda}\")\n",
    "    print(f\"cuDNN version: {torch.backends.cudnn.version()}\")\n",
    "    print(f\"cuDNN enabled: {torch.backends.cudnn.enabled}\")\n",
    "    \n",
    "    # Print PyTorch memory info\n",
    "    print(\"\\nPyTorch Memory Information:\")\n",
    "    print(f\"Allocated memory: {torch.cuda.memory_allocated(0) / 1024**2:.2f} MB\")\n",
    "    print(f\"Cached memory: {torch.cuda.memory_reserved(0) / 1024**2:.2f} MB\")\n",
    "else:\n",
    "    print('GPU not enabled')\n",
    "    print(\"\\nPyTorch Information:\")\n",
    "    print(f\"PyTorch version: {torch.__version__}\")\n",
    "    print(f\"Backend: {torch.get_default_dtype()}\")\n",
    "    "
   ]
  }
 ],
 "metadata": {
  "kernelspec": {
   "display_name": "pytorch-course-YUNTNAZF-py3.12",
   "language": "python",
   "name": "python3"
  },
  "language_info": {
   "codemirror_mode": {
    "name": "ipython",
    "version": 3
   },
   "file_extension": ".py",
   "mimetype": "text/x-python",
   "name": "python",
   "nbconvert_exporter": "python",
   "pygments_lexer": "ipython3",
   "version": "3.12.6"
  }
 },
 "nbformat": 4,
 "nbformat_minor": 2
}
