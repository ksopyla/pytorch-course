{
 "cells": [
  {
   "cell_type": "markdown",
   "id": "2a39a6ae",
   "metadata": {},
   "source": [
    "# Data Types and Devices"
   ]
  }
 ],
 "metadata": {},
 "nbformat": 4,
 "nbformat_minor": 5
}
