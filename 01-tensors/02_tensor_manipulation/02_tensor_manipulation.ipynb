{
 "cells": [
  {
   "cell_type": "markdown",
   "id": "f646b49b",
   "metadata": {},
   "source": [
    "# Tensor Manipulation"
   ]
  }
 ],
 "metadata": {},
 "nbformat": 4,
 "nbformat_minor": 5
}
