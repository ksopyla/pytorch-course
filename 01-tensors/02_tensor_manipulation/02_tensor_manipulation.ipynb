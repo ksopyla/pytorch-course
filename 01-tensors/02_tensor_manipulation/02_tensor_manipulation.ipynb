{
 "cells": [
  {
   "cell_type": "markdown",
   "id": "f646b49b",
   "metadata": {},
   "source": [
    "# Tensor Shape-Shifting & Sorcery"
   ]
  },
  {
   "cell_type": "markdown",
   "id": "36fcb59e",
   "metadata": {},
   "source": [
    "**Module 1 | Lesson 2**\n",
    "\n",
    "---\n",
    "\n",
    "## Professor Torchenstein's Grand Directive\n",
    "\n",
    "Mwahahaha! You have summoned your first tensors from the ether! They are... raw. Untamed. Clumps of numerical clay awaiting a master's touch. A lesser mind would be content with their existence, but not you. Not us!\n",
    "\n",
    "Today, we sculpt! We will learn the arcane arts of tensor manipulation. We will not merely *use* data; we will bend it, twist it, and reshape it to our will until it confesses its secrets. This is not data processing; this is **tensor sorcery**! Prepare to command the very dimensions of your data!\n"
   ]
  },
  {
   "cell_type": "markdown",
   "id": "b9b33d1d",
   "metadata": {},
   "source": [
    "---\n",
    "\n",
    "## Your Mission Briefing\n",
    "\n",
    "By the time you escape this chamber of knowledge, you will have etched the following incantations into your very soul:\n",
    "\n",
    "*   **The Art of Selection:** Pluck elements, rows, or slices from a tensor with masterful **slicing**.\n",
    "*   **Forbidden Fusions:** Combine disparate tensors into unified monstrosities with `torch.cat` and `torch.stack`.\n",
    "*   **Metamorphic Mastery:** Change a tensor's very form without altering its essence using `reshape` and `view`.\n",
    "*   **Dimensional Sorcery:** Add or remove dimensions at will with the mystical `squeeze` and `unsqueeze` commands.\n",
    "*   **The Grand Permutation:** Reorder dimensions to your strategic advantage with `permute` and `transpose`.\n",
    "\n",
    "**Estimated Time to Completion:** 20 minutes of exhilarating dimensional gymnastics.\n",
    "\n",
    "**What You'll Need:**\n",
    "*   The wisdom from our [last lesson on summoning tensors](../01_introduction_to_tensors.ipynb).\n",
    "*   A will of iron and a mind ready to be bent!\n",
    "*   Your PyTorch environment, humming with anticipation.\n"
   ]
  },
  {
   "cell_type": "markdown",
   "id": "8652e14f",
   "metadata": {},
   "source": [
    "## Part 1: The Art of Selection - Slicing\n",
    "\n",
    "Before you can reshape a tensor, you must learn to grasp its individual parts. Indexing is your scalpel, allowing you to perform precision surgery on your data. Slicing is your cleaver, letting you carve out whole sections for your grand experiments.\n",
    "\n",
    "We will start by summoning a test subject—a 2D tensor brimming with potential! We must also prepare our lab with the usual incantations (`import torch` and `manual_seed`) to ensure our results are repeatable. We are scientists, not chaos-wizards!\n"
   ]
  },
  {
   "cell_type": "code",
   "execution_count": null,
   "id": "d0210a48",
   "metadata": {},
   "outputs": [],
   "source": [
    "import torch\n",
    "\n",
    "# Set the seed for cosmic consistency\n",
    "torch.manual_seed(42)\n",
    "\n",
    "# Our test subject: A 2D tensor of integers. Imagine it's a map to a hidden treasure!\n",
    "# Or perhaps experimental results from a daring new potion.\n",
    "subject_tensor = torch.randint(0, 100, (5, 4))\n",
    "\n",
    "print(\"Our subject tensor, ripe for dissection:\")\n",
    "print(subject_tensor)\n"
   ]
  },
  {
   "cell_type": "markdown",
   "id": "e22d492f",
   "metadata": {},
   "source": [
    "### 1.2 Sweeping Strikes: Accessing Rows and Columns\n",
    "\n",
    "Previous lesson: [01_introduction_to_tensors.ipynb](01_introduction_to_tensors.ipynb) gives you the basics for accessing element of a tensor.\n",
    "But what if we require an entire row or column for our dark machinations? For this, we use the colon `:`, the universal symbol for \"give me everything along this dimension!\"\n",
    "\n",
    "- `[row, :]` - Fetches the entire row.\n",
    "- `[:, column]` - Fetches the entire column.\n",
    "\n",
    "Let's seize the entire 3rd row (index 2) and the 2nd column (index 1).\n"
   ]
  },
  {
   "cell_type": "code",
   "execution_count": null,
   "id": "91b34956",
   "metadata": {},
   "outputs": [],
   "source": [
    "# Get the entire 3rd row (index 2)\n",
    "third_row = subject_tensor[2, :] # or simply subject_tensor[2]\n",
    "print(f\"The third row: {third_row}\")\n",
    "print(f\"Shape of the row: {third_row.shape}\\\\n\")\n",
    "\n",
    "\n",
    "# Get the entire 2nd column (index 1)\n",
    "second_column = subject_tensor[:, 1]\n",
    "print(f\"The second column: {second_column}\")\n",
    "print(f\"Shape of the column: {second_column.shape}\")\n"
   ]
  },
  {
   "cell_type": "markdown",
   "id": "933e7b12",
   "metadata": {},
   "source": [
    "### 1.3 Carving Chunks: The Power of Slicing\n",
    "\n",
    "Mere elements are but trivialities! True power lies in carving out entire sub-regions of a tensor. Slicing uses the `start:end` notation. As with all Pythonic sorcery, the `start` is inclusive, but the `end` is **exclusive**.\n",
    "\n",
    "Let us carve out the block containing the 2nd and 3rd rows (indices 1 and 2), and the last two columns (indices 2 and 3).\n"
   ]
  },
  {
   "cell_type": "code",
   "execution_count": null,
   "id": "dd3e2f4e",
   "metadata": {},
   "outputs": [],
   "source": [
    "# Carve out rows 1 and 2, and columns 2 and 3\n",
    "sub_tensor = subject_tensor[1:3, 2:4]\n",
    "\n",
    "print(\"Our carved sub-tensor:\")\n",
    "print(sub_tensor)\n",
    "print(f\"Shape of the sub-tensor: {sub_tensor.shape}\")\n"
   ]
  },
  {
   "cell_type": "markdown",
   "id": "fcc94f52",
   "metadata": {},
   "source": [
    "### 1.4 Conditional Conjuring: Boolean Mask Indexing\n",
    "\n",
    "Now for a truly diabolical technique! We can use a **boolean mask** to summon only the elements that meet our nefarious criteria. A boolean mask is a tensor of the same shape as our subject, but it contains only `True` or `False` values. When used for indexing, it returns a 1D tensor containing only the elements where the mask was `True`.\n",
    "\n",
    "Let's find all the alchemical ingredients in our tensor with a value greater than 50!\n"
   ]
  },
  {
   "cell_type": "code",
   "execution_count": null,
   "id": "ac2ad0cb",
   "metadata": {},
   "outputs": [],
   "source": [
    "# Create the boolean mask\n",
    "mask = subject_tensor > 50\n",
    "\n",
    "print(\"The boolean mask (True where value > 50):\")\n",
    "print(mask)\n",
    "print(f\"\\\\n\")\n",
    "\n",
    "# Apply the mask\n",
    "selected_elements = subject_tensor[mask]\n",
    "\n",
    "print(\"Elements greater than 50:\")\n",
    "print(selected_elements)\n",
    "print(f\"Shape of the result: {selected_elements.shape} (always a 1D tensor!)\")\n",
    "\n",
    "# You can also combine conditions! Mwahaha!\n",
    "# Let's find elements between 20 and 40.\n",
    "mask_combined = (subject_tensor > 20) & (subject_tensor < 40)\n",
    "print(\"\\\\nElements between 20 and 40:\")\n",
    "print(subject_tensor[mask_combined])\n"
   ]
  },
  {
   "cell_type": "markdown",
   "id": "b8a2baed",
   "metadata": {},
   "source": [
    "### Your Mission: The Slicer's Gauntlet\n",
    "\n",
    "Enough of my demonstrations! The scalpel is now in your hand. Prove your mastery with these challenges!\n",
    "\n",
    "1.  **The Corner Pocket:** From our `subject_tensor`, select the element in the very last row and last column.\n",
    "2.  **The Central Core:** Select the inner `3x2` block of the `subject_tensor` (that's rows 1-3 and columns 1-2).\n",
    "3.  **The Even Stevens:** Create a boolean mask to select only the elements in `subject_tensor` that are even numbers. (Hint: The modulo operator `%` is your friend!)\n",
    "4.  **The Grand Mutation:** Use your boolean mask from challenge 3 to **change** all even numbers in the `subject_tensor` to the value `-1`. Then, print the mutated tensor. Yes, my apprentice, indexing can be used for assignment! This is a pivotal secret!\n"
   ]
  },
  {
   "cell_type": "code",
   "execution_count": null,
   "id": "2d7adb0d",
   "metadata": {},
   "outputs": [],
   "source": [
    "# Your code for the Slicer's Gauntlet goes here!\n",
    "\n",
    "# --- 1. The Corner Pocket ---\n",
    "print(\"--- 1. The Corner Pocket ---\")\n",
    "corner_element = subject_tensor[-1, -1] # Negative indexing for the win!\n",
    "print(f\"The corner element is: {corner_element.item()}\\\\n\")\n",
    "\n",
    "# --- 2. The Central Core ---\n",
    "print(\"--- 2. The Central Core ---\")\n",
    "central_core = subject_tensor[1:4, 1:3]\n",
    "print(f\"The central core:\\\\n{central_core}\\\\n\")\n",
    "\n",
    "# --- 3. The Even Stevens ---\n",
    "print(\"--- 3. The Even Stevens ---\")\n",
    "even_mask = subject_tensor % 2 == 0\n",
    "print(f\"The mask for even numbers:\\\\n{even_mask}\\\\n\")\n",
    "print(f\"The even numbers themselves: {subject_tensor[even_mask]}\\\\n\")\n",
    "\n",
    "\n",
    "# --- 4. The Grand Mutation ---\n",
    "print(\"--- 4. The Grand Mutation ---\")\n",
    "# Let's not mutate our original, that would be reckless! Let's clone it first.\n",
    "mutated_tensor = subject_tensor.clone()\n",
    "mutated_tensor[even_mask] = -1\n",
    "print(f\"The tensor after mutating even numbers to -1:\\\\n{mutated_tensor}\")\n"
   ]
  }
 ],
 "metadata": {
  "language_info": {
   "name": "python"
  }
 },
 "nbformat": 4,
 "nbformat_minor": 5
}
