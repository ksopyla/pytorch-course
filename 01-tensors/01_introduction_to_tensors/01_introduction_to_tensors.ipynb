{
 "cells": [
  {
   "cell_type": "markdown",
   "metadata": {},
   "source": [
    "# Summoning Your First Tensors\n",
    "\n",
    "\n",
    "**Module 01 lesson 1**\n",
    "\n",
    "Mwahahaha! Welcome, my brilliant acolytes. Today, we shall peel back the very fabric of reality—or, at the very least, the fabric of a PyTorch tensors\n",
    "\n",
    "\"Prepare your minds! The gradients... they are about to flow!\"\n",
    "\n",
    "## Lesson objectives \n",
    "\n",
    "- Understand what tensors are and why they are useful for machine learning\n",
    "- Get hands-on experience on creating and selecting elements from tensors in PyTorch\n",
    "- Manipulate and transform tensors to prepare them for machine learning tasks\n",
    "\n",
    "\n",
    "\n",
    "Time to complete: 10 minutes\n",
    "Level: Beginner - Intermediate\n"
   ]
  },
  {
   "cell_type": "markdown",
   "metadata": {},
   "source": [
    "## What is a tensor?\n",
    "\n",
    "\n",
    "- what is a tensor?\n",
    "- how is it different from a matrix? \n",
    "- are mathematical interpretations of tensors are different from their PyTorch counterparts?\n",
    "- why are tensors useful for machine learning? Why we can't use matrices?"
   ]
  },
  {
   "cell_type": "markdown",
   "metadata": {},
   "source": [
    "## Excercises \n",
    "\n"
   ]
  },
  {
   "cell_type": "markdown",
   "metadata": {},
   "source": [
    "Check if your PyTorch is properly setup, lets import the libraries."
   ]
  },
  {
   "cell_type": "code",
   "execution_count": 1,
   "metadata": {},
   "outputs": [],
   "source": [
    "import torch\n"
   ]
  },
  {
   "cell_type": "code",
   "execution_count": 2,
   "metadata": {},
   "outputs": [
    {
     "name": "stdout",
     "output_type": "stream",
     "text": [
      "tensor([[-1.5256, -0.7502, -0.6540, -1.6095],\n",
      "        [-0.1002, -0.6092, -0.9798, -1.6091],\n",
      "        [ 0.4391,  1.1712,  1.7674, -0.0954],\n",
      "        [ 0.1394, -1.5785, -0.3206, -0.2993],\n",
      "        [-0.7984,  0.3357,  0.2753,  1.7163],\n",
      "        [-0.0561,  0.9107, -1.3924,  2.6891]])\n",
      "torch.Size([6, 4])\n"
     ]
    }
   ],
   "source": [
    "torch.manual_seed(1)\n",
    "\n",
    "x = torch.randn(6, 4)\n",
    "print(x)\n",
    "print(x.shape)"
   ]
  },
  {
   "cell_type": "code",
   "execution_count": null,
   "metadata": {},
   "outputs": [],
   "source": []
  }
 ],
 "metadata": {
  "kernelspec": {
   "display_name": "pytorch-course-YUNTNAZF-py3.12",
   "language": "python",
   "name": "python3"
  },
  "language_info": {
   "codemirror_mode": {
    "name": "ipython",
    "version": 3
   },
   "file_extension": ".py",
   "mimetype": "text/x-python",
   "name": "python",
   "nbconvert_exporter": "python",
   "pygments_lexer": "ipython3",
   "version": "3.12.6"
  }
 },
 "nbformat": 4,
 "nbformat_minor": 2
}
