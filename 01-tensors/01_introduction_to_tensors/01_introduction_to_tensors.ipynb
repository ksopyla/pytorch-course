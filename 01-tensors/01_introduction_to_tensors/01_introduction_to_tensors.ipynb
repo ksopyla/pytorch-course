{
 "cells": [
  {
   "cell_type": "markdown",
   "metadata": {},
   "source": [
    "# Summoning Your First Tensors\n",
    "\n",
    "**Module 1 | Lesson 1**\n",
    "\n",
    "---\n",
    "\n",
    "### Professor Torchenstein's Grand Directive\n",
    "\n",
    "Mwahahaha! Welcome, my brilliant acolytes. Today, we shall peel back the very fabric of reality—or, at the very least, the fabric of a PyTorch tensor. We are not merely learning; we are engaging in the sacred act of *creation*!\n",
    "\n",
    "\"Prepare your minds! The tensors... they are about to be summoned!\"\n",
    "\n",
    "---\n",
    "\n",
    "### Your Mission Briefing\n",
    "\n",
    "By the end of this dark ritual, you will have mastered the arcane arts of:\n",
    "\n",
    "*   **Understanding** what a tensor is and why it's the fundamental building block of all modern AI.\n",
    "*   **Summoning** tensors from nothingness using a variety of powerful PyTorch functions.\n",
    "*   **Inspecting** the very soul of a tensor: its shape, data type, and the device it inhabits.\n",
    "\n",
    "**Estimated Time to Completion:** 15 glorious minutes of pure, unadulterated learning.\n",
    "\n",
    "**What You'll Need:**\n",
    "*   A mind hungry for forbidden knowledge!\n",
    "*   A working PyTorch environment, ready for spellcasting.\n",
    "*   (Optional but recommended) A beverage of your choice—creation is thirsty work!"
   ]
  },
  {
   "cell_type": "markdown",
   "metadata": {},
   "source": [
    "## The Grand Unveiling: What is a Tensor, *Really*?\n",
    "\n",
    "### The Theory Behind the Magic\n",
    "\n",
    "First, we must understand the incantation before we cast the spell. You've heard the word \"tensor,\" whispered in the hallowed halls of academia and screamed during GPU memory overflows. But what *is* it?\n",
    "\n",
    "Forget what the mathematicians told you about coordinate transformations for a moment. In our glorious domain of PyTorch, a tensor is simply a **multi-dimensional array of numbers**. It is the generalization of vectors and matrices to an arbitrary number of dimensions. Think of it as the ultimate container for your data!\n",
    "\n",
    "- A **scalar** (a single number, like `5`) is a 0-dimensional tensor.\n",
    "- A **vector** (a list of numbers, like `[1, 2, 3]`) is a 1-dimensional tensor.\n",
    "- A **matrix** (a grid of numbers) is a 2-dimensional tensor.\n",
    "- And a **tensor**? It can be all of those, and so much more! 3D, 4D, 5D... all await your command!\n",
    "\n",
    "**Why not just use matrices?** Mwahaha, a foolish question! Modern data is complex!\n",
    "- An image is not a flat grid; it's a 3D tensor (`height`, `width`, `channels`).\n",
    "- A batch of images for training is a 4D tensor (`batch_size`, `height`, `width`, `channels`).\n",
    "- Text data is often represented as 3D tensors (`batch_size`, `sequence_length`, `embedding_dimension`).\n",
    "\n",
    "Tensors give us the power to mold and shape all this data with a single, unified tool. They are the clay from which we will sculpt our magnificent AI creations!"
   ]
  },
  {
   "cell_type": "markdown",
   "metadata": {},
   "source": [
    "## The Ritual: Summoning Your First Tensors\n",
    "\n",
    "Enough theory! The time has come to channel the raw power of PyTorch. We will now perform the summoning rituals—the core functions you will use constantly in your dark arts.\n",
    "\n",
    "First, let's prepare the laboratory by importing `torch` and setting a manual seed. Why the seed? To ensure our \"random\" experiments are reproducible! We are scientists, not gamblers!"
   ]
  },
  {
   "cell_type": "markdown",
   "metadata": {},
   "source": [
    "### 1. Conjuring from Existing Data (`torch.tensor`)\n",
    "\n",
    "The most direct way to create a tensor is from existing data, like a Python list. The `torch.tensor()` command consumes your data and transmutes it into a glorious PyTorch tensor."
   ]
  },
  {
   "cell_type": "code",
   "execution_count": 3,
   "metadata": {},
   "outputs": [
    {
     "name": "stdout",
     "output_type": "stream",
     "text": [
      "tensor([[1, 2, 3],\n",
      "        [4, 5, 6]])\n",
      "<class 'torch.Tensor'>\n"
     ]
    }
   ],
   "source": [
    "import torch\n",
    "\n",
    "# Set the seed for reproducibility\n",
    "torch.manual_seed(42)\n",
    "\n",
    "# A humble Python list\n",
    "my_list = [[1, 2, 3], [4, 5, 6]]\n",
    "\n",
    "# The transmutation!\n",
    "my_tensor = torch.tensor(my_list)\n",
    "\n",
    "print(my_tensor)\n",
    "print(type(my_tensor))"
   ]
  },
  {
   "cell_type": "markdown",
   "metadata": {},
   "source": [
    "### 2. Summoning Tensors of a Specific Size\n",
    "\n",
    "Often, you won't have data yet. You simply need a tensor of a particular shape, a blank canvas for your masterpiece.\n",
    "\n",
    "- `torch.randn(shape)`: Summons a tensor filled with random numbers from a standard normal distribution (mean 0, variance 1). Perfect for initializing weights in a neural network!\n",
    "- `torch.zeros(shape)`: Creates a tensor of the given shape filled entirely with zeros.\n",
    "- `torch.ones(shape)`: Creates a tensor of the given shape filled entirely with ones."
   ]
  },
  {
   "cell_type": "code",
   "execution_count": 4,
   "metadata": {},
   "outputs": [
    {
     "name": "stdout",
     "output_type": "stream",
     "text": [
      "A random tensor:\n",
      " tensor([[ 0.3367,  0.1288,  0.2345],\n",
      "        [ 0.2303, -1.1229, -0.1863]])\n",
      "\n",
      "A tensor of zeros:\n",
      " tensor([[0., 0.],\n",
      "        [0., 0.],\n",
      "        [0., 0.]])\n",
      "\n",
      "A tensor of ones:\n",
      " tensor([[[1., 1.],\n",
      "         [1., 1.]],\n",
      "\n",
      "        [[1., 1.],\n",
      "         [1., 1.]]])\n"
     ]
    }
   ],
   "source": [
    "# A 2x3 tensor of random numbers\n",
    "random_tensor = torch.randn(2, 3)\n",
    "print(f\"A random tensor:\\n {random_tensor}\\n\")\n",
    "\n",
    "# A 3x2 tensor of zeros\n",
    "zeros_tensor = torch.zeros(3, 2)\n",
    "print(f\"A tensor of zeros:\\n {zeros_tensor}\\n\")\n",
    "\n",
    "# A 2x2x2 tensor of ones\n",
    "ones_tensor = torch.ones(2, 2, 2)\n",
    "print(f\"A tensor of ones:\\n {ones_tensor}\")\n"
   ]
  },
  {
   "cell_type": "markdown",
   "metadata": {},
   "source": [
    "## Inspecting Your Creation\n",
    "\n",
    "A true master understands their creation. Once you have summoned a tensor, you must learn to inspect its very soul. These are the three most critical attributes you will constantly examine:\n",
    "\n",
    "- `.shape`: Reveals the dimensions of your tensor. A vital sanity check!\n",
    "- `.dtype`: Shows the data type of the elements within the tensor (e.g., `torch.float32`, `torch.int64`).\n",
    "- `.device`: Tells you where the tensor lives—on the humble CPU or the glorious GPU.\n"
   ]
  },
  {
   "cell_type": "code",
   "execution_count": null,
   "metadata": {},
   "outputs": [],
   "source": [
    "# Let's create a tensor to inspect\n",
    "inspection_tensor = torch.randn(3, 4)\n",
    "\n",
    "print(f\"The tensor:\\n {inspection_tensor}\\n\")\n",
    "\n",
    "# Inspecting its soul\n",
    "print(f\"Shape of the tensor: {inspection_tensor.shape}\")\n",
    "print(f\"Data type of the tensor: {inspection_tensor.dtype}\")\n",
    "print(f\"Device the tensor is on: {inspection_tensor.device}\")\n"
   ]
  },
  {
   "cell_type": "markdown",
   "metadata": {},
   "source": [
    "### 3. Creating Sequential Tensors\n",
    "\n",
    "Sometimes, you need tensors with predictable, orderly values.\n",
    "\n",
    "- `torch.arange(start, end, step)`: Creates a 1D tensor with values from `start` (inclusive) to `end` (exclusive), with a given `step`. It's the PyTorch version of Python's `range()`.\n",
    "- `torch.linspace(start, end, steps)`: Creates a 1D tensor with a specific number of `steps` evenly spaced between `start` and `end` (both inclusive).\n"
   ]
  },
  {
   "cell_type": "markdown",
   "metadata": {},
   "source": [
    "### Your Mission: Forge Your Own Sequences!\n",
    "\n",
    "Now it is your turn, apprentice! Put your knowledge to the test.\n",
    "\n",
    "*   **Apprentice Challenge:** Create a 1D tensor containing all odd numbers from 1 up to (and including) 19.\n",
    "*   **Artisan Challenge:** Create a 1D tensor that has 9 evenly spaced numbers between 50 and 100 (inclusive of both).\n",
    "\n",
    "Unleash the code in the cell below! Mwahaha!\n"
   ]
  },
  {
   "cell_type": "code",
   "execution_count": null,
   "metadata": {},
   "outputs": [],
   "source": [
    "# Your code for the challenges goes here!\n",
    "\n",
    "# Apprentice Challenge Solution\n",
    "odd_numbers = torch.arange(1, 20, 2)\n",
    "print(f\"Odd Numbers Tensor: {odd_numbers}\")\n",
    "\n",
    "# Artisan Challenge Solution\n",
    "evenly_spaced = torch.linspace(50, 100, 9)\n",
    "print(f\"Evenly Spaced Tensor: {evenly_spaced}\")\n",
    "\n"
   ]
  }
 ],
 "metadata": {
  "kernelspec": {
   "display_name": "pytorch-course-YUNTNAZF-py3.12",
   "language": "python",
   "name": "python3"
  },
  "language_info": {
   "codemirror_mode": {
    "name": "ipython",
    "version": 3
   },
   "file_extension": ".py",
   "mimetype": "text/x-python",
   "name": "python",
   "nbconvert_exporter": "python",
   "pygments_lexer": "ipython3",
   "version": "3.12.6"
  }
 },
 "nbformat": 4,
 "nbformat_minor": 2
}
