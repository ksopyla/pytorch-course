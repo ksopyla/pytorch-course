{
 "cells": [
  {
   "cell_type": "markdown",
   "id": "29f49edb",
   "metadata": {},
   "source": [
    "# Fine Tuning Transformers"
   ]
  }
 ],
 "metadata": {},
 "nbformat": 4,
 "nbformat_minor": 5
}
