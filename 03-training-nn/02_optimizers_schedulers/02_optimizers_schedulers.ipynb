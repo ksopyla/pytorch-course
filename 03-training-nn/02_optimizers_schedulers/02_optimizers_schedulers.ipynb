{
 "cells": [
  {
   "cell_type": "markdown",
   "id": "4ab656ec",
   "metadata": {},
   "source": [
    "# Optimizers Schedulers"
   ]
  }
 ],
 "metadata": {},
 "nbformat": 4,
 "nbformat_minor": 5
}
