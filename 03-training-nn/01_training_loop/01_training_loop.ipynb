{
 "cells": [
  {
   "cell_type": "markdown",
   "id": "f8e847ec",
   "metadata": {},
   "source": [
    "# Training Loop"
   ]
  }
 ],
 "metadata": {},
 "nbformat": 4,
 "nbformat_minor": 5
}
