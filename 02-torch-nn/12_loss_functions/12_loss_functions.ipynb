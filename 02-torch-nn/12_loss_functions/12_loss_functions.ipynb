{
 "cells": [
  {
   "cell_type": "markdown",
   "id": "d3dd1613",
   "metadata": {},
   "source": [
    "# Loss Functions"
   ]
  }
 ],
 "metadata": {},
 "nbformat": 4,
 "nbformat_minor": 5
}
