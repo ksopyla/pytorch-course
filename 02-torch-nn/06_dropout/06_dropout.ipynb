{
 "cells": [
  {
   "cell_type": "markdown",
   "id": "16c1180d",
   "metadata": {},
   "source": [
    "# Dropout"
   ]
  }
 ],
 "metadata": {},
 "nbformat": 4,
 "nbformat_minor": 5
}
