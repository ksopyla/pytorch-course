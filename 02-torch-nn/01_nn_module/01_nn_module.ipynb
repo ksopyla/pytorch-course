{
 "cells": [
  {
   "cell_type": "markdown",
   "id": "a2aad0ba",
   "metadata": {},
   "source": [
    "# nn.Module"
   ]
  }
 ],
 "metadata": {},
 "nbformat": 4,
 "nbformat_minor": 5
}
