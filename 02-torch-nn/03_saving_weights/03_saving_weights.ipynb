{
 "cells": [
  {
   "cell_type": "markdown",
   "id": "01aaafcc",
   "metadata": {},
   "source": [
    "# Saving Weights"
   ]
  }
 ],
 "metadata": {},
 "nbformat": 4,
 "nbformat_minor": 5
}
