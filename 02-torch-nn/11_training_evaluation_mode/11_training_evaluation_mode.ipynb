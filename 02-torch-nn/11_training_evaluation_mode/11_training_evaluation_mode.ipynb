{
 "cells": [
  {
   "cell_type": "markdown",
   "id": "758e2d11",
   "metadata": {},
   "source": [
    "# Training Evaluation Mode"
   ]
  }
 ],
 "metadata": {},
 "nbformat": 4,
 "nbformat_minor": 5
}
