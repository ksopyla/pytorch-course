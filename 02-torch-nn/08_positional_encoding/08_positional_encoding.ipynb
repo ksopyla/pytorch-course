{
 "cells": [
  {
   "cell_type": "markdown",
   "id": "e0e6d54e",
   "metadata": {},
   "source": [
    "# Positional Embeddings \n",
    "\n",
    "How to encode the token position in the sequence?\n",
    "\n",
    "\n",
    "References:\n",
    "- [Mastering LLAMA: Understanding Rotary Positional Embedding (RPE)](https://medium.com/@hugmanskj/mastering-llama-understanding-rotary-positional-embedding-rope-91d1e707e95a)\n",
    "\n"
   ]
  },
  {
   "cell_type": "markdown",
   "id": "e6965fac",
   "metadata": {},
   "source": []
  }
 ],
 "metadata": {
  "language_info": {
   "name": "python"
  }
 },
 "nbformat": 4,
 "nbformat_minor": 5
}
